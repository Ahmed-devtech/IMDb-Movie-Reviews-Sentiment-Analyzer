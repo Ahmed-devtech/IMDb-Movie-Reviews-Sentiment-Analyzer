{
 "cells": [
  {
   "cell_type": "markdown",
   "id": "36f27f93",
   "metadata": {},
   "source": [
    "In this notebook I take you through the steps of developing an IMDB Movie Review sentiment analyzer using the famous IMDB Movie Review  dataset freely available on \"https://ai.stanford.edu/~amaas/data/sentiment/\". After downlowading the file \"aclImdb_v1.tar.gz\" which is a compressed file of the dataset, I extracted the files into a new folder I named \"aclImdb\" which includes the \"train\" directory that contains 25,000 movie reviews for training our sentiment analyzer, and a \"test\" directory contains 25,000 movie reviews for testing the performance of our model. After which I followed the following steps:"
   ]
  },
  {
   "cell_type": "markdown",
   "id": "ad0bcbf9",
   "metadata": {},
   "source": [
    "1: First we Load the Dataset:"
   ]
  },
  {
   "cell_type": "code",
   "execution_count": 1,
   "id": "7430a204",
   "metadata": {},
   "outputs": [],
   "source": [
    "import os\n",
    "import pandas as pd\n",
    "\n",
    "def load_imdb_dataset(dataset_dir):\n",
    "    train_dir = os.path.join(dataset_dir, 'train')\n",
    "    test_dir = os.path.join(dataset_dir, 'test')\n",
    "    \n",
    "    # Load the training data\n",
    "    train_texts = []\n",
    "    train_labels = []\n",
    "    for label_type in ['neg', 'pos']:\n",
    "        dir_name = os.path.join(train_dir, label_type)\n",
    "        for fname in os.listdir(dir_name):\n",
    "            if fname.endswith('.txt'):\n",
    "                with open(os.path.join(dir_name, fname), encoding='utf-8') as f:\n",
    "                    train_texts.append(f.read())\n",
    "                train_labels.append(0 if label_type == 'neg' else 1)\n",
    "\n",
    "    # Load the test data\n",
    "    test_texts = []\n",
    "    test_labels = []\n",
    "    for label_type in ['neg', 'pos']:\n",
    "        dir_name = os.path.join(test_dir, label_type)\n",
    "        for fname in os.listdir(dir_name):\n",
    "            if fname.endswith('.txt'):\n",
    "                with open(os.path.join(dir_name, fname), encoding='utf-8') as f:\n",
    "                    test_texts.append(f.read())\n",
    "                test_labels.append(0 if label_type == 'neg' else 1)\n",
    "\n",
    "    # Convert the data to Pandas DataFrames\n",
    "    train_df = pd.DataFrame({'text': train_texts, 'label': train_labels})\n",
    "    test_df = pd.DataFrame({'text': test_texts, 'label': test_labels})\n",
    "\n",
    "    return train_df, test_df\n",
    "\n",
    "# Load the IMDb dataset\n",
    "train_df, test_df = load_imdb_dataset('aclImdb')\n"
   ]
  },
  {
   "cell_type": "markdown",
   "id": "98cb81ef",
   "metadata": {},
   "source": [
    "Step 2: After loading the dataset we follow it up with Preprocessing the data by removing stop words, stemming or lemmatizing, and performing other text cleaning steps:"
   ]
  },
  {
   "cell_type": "code",
   "execution_count": 2,
   "id": "098f6683",
   "metadata": {},
   "outputs": [
    {
     "name": "stderr",
     "output_type": "stream",
     "text": [
      "[nltk_data] Downloading package stopwords to\n",
      "[nltk_data]     C:\\Users\\hp\\AppData\\Roaming\\nltk_data...\n",
      "[nltk_data]   Package stopwords is already up-to-date!\n",
      "[nltk_data] Downloading package wordnet to\n",
      "[nltk_data]     C:\\Users\\hp\\AppData\\Roaming\\nltk_data...\n",
      "[nltk_data]   Package wordnet is already up-to-date!\n"
     ]
    }
   ],
   "source": [
    "import nltk\n",
    "from nltk.corpus import stopwords\n",
    "from nltk.stem import SnowballStemmer\n",
    "from nltk.stem import WordNetLemmatizer\n",
    "import re\n",
    "\n",
    "# Initialize NLTK's stopwords and stemmer\n",
    "nltk.download('stopwords')\n",
    "nltk.download('wordnet')\n",
    "stop_words = set(stopwords.words('english'))\n",
    "stemmer = SnowballStemmer('english')\n",
    "lemmatizer = WordNetLemmatizer()\n",
    "\n",
    "# Define a function for preprocessing the text data\n",
    "def preprocess_text(text):\n",
    "    # Remove HTML tags\n",
    "    text = re.sub('<[^>]*>', '', text)\n",
    "    \n",
    "    # Convert to lowercase\n",
    "    text = text.lower()\n",
    "    \n",
    "    # Remove punctuation and numbers\n",
    "    text = re.sub('[^a-z]+', ' ', text)\n",
    "    \n",
    "    # Tokenize the text into words\n",
    "    words = text.split()\n",
    "    \n",
    "    # Remove stop words\n",
    "    words = [word for word in words if word not in stop_words]\n",
    "    \n",
    "    # Stem the words\n",
    "    words = [stemmer.stem(word) for word in words]\n",
    "    \n",
    "    # Lemmatize the words\n",
    "    words = [lemmatizer.lemmatize(word) for word in words]\n",
    "    \n",
    "    # Join the words back into a string\n",
    "    text = ' '.join(words)\n",
    "    \n",
    "    return text\n",
    "\n",
    "# Preprocess the training data\n",
    "train_df['text'] = train_df['text'].apply(preprocess_text)\n",
    "\n",
    "# Preprocess the test data\n",
    "test_df['text'] = test_df['text'].apply(preprocess_text)\n"
   ]
  },
  {
   "cell_type": "markdown",
   "id": "ad7f3485",
   "metadata": {},
   "source": [
    "Step 3: After loading and cleaning the data, we Vectorize the text data using TF-IDF or CountVectorizer:"
   ]
  },
  {
   "cell_type": "code",
   "execution_count": 4,
   "id": "de7115b3",
   "metadata": {},
   "outputs": [],
   "source": [
    "from sklearn.feature_extraction.text import TfidfVectorizer\n",
    "\n",
    "# Initialize the TfidfVectorizer\n",
    "vectorizer = TfidfVectorizer(stop_words='english', max_features=10000)\n",
    "\n",
    "# Fit and transform the training data\n",
    "train_vectors = vectorizer.fit_transform(train_df['text'])\n",
    "\n",
    "# Transform the test data\n",
    "test_vectors = vectorizer.transform(test_df['text'])\n"
   ]
  },
  {
   "cell_type": "markdown",
   "id": "9ad2a438",
   "metadata": {},
   "source": [
    "Step 4: After vectorizing the data, we train and evaluate the sentiment analyzer using different machine learning algorithms, which are; Naive Bayes, Logistic Regression and Support Vector Machine:"
   ]
  },
  {
   "cell_type": "code",
   "execution_count": 5,
   "id": "79d1946d",
   "metadata": {},
   "outputs": [
    {
     "name": "stdout",
     "output_type": "stream",
     "text": [
      "Naive Bayes: Accuracy = 0.824, Precision = 0.851, Recall = 0.785\n",
      "Logistic Regression: Accuracy = 0.875, Precision = 0.874, Recall = 0.875\n",
      "Support Vector Machine: Accuracy = 0.855, Precision = 0.865, Recall = 0.842\n"
     ]
    }
   ],
   "source": [
    "from sklearn.naive_bayes import MultinomialNB\n",
    "from sklearn.linear_model import LogisticRegression\n",
    "from sklearn.svm import LinearSVC\n",
    "from sklearn.metrics import accuracy_score, precision_score, recall_score\n",
    "\n",
    "# Define the machine learning models\n",
    "nb_model = MultinomialNB()\n",
    "lr_model = LogisticRegression(max_iter=1000)\n",
    "svm_model = LinearSVC(max_iter=1000)\n",
    "\n",
    "# Train and evaluate the models\n",
    "models = [nb_model, lr_model, svm_model]\n",
    "model_names = ['Naive Bayes', 'Logistic Regression', 'Support Vector Machine']\n",
    "\n",
    "for i, model in enumerate(models):\n",
    "    # Train the model\n",
    "    model.fit(train_vectors, train_df['label'])\n",
    "\n",
    "    # Make predictions on the test data\n",
    "    y_pred = model.predict(test_vectors)\n",
    "\n",
    "    # Evaluate the model performance\n",
    "    accuracy = accuracy_score(test_df['label'], y_pred)\n",
    "    precision = precision_score(test_df['label'], y_pred)\n",
    "    recall = recall_score(test_df['label'], y_pred)\n",
    "\n",
    "    print(f'{model_names[i]}: Accuracy = {accuracy:.3f}, Precision = {precision:.3f}, Recall = {recall:.3f}')\n"
   ]
  },
  {
   "cell_type": "markdown",
   "id": "82548206",
   "metadata": {},
   "source": [
    "Step 5: We then finish up by deploying the sentiment analyzer using a gradio interface where it can receive input for new reviews which are positive or negative:"
   ]
  },
  {
   "cell_type": "code",
   "execution_count": 7,
   "id": "13c9f5ab",
   "metadata": {},
   "outputs": [
    {
     "name": "stderr",
     "output_type": "stream",
     "text": [
      "C:\\Users\\hp\\anaconda3\\lib\\site-packages\\gradio\\inputs.py:27: UserWarning: Usage of gradio.inputs is deprecated, and will not be supported in the future, please import your component from gradio.components\n",
      "  warnings.warn(\n",
      "C:\\Users\\hp\\anaconda3\\lib\\site-packages\\gradio\\deprecation.py:40: UserWarning: `optional` parameter is deprecated, and it has no effect\n",
      "  warnings.warn(value)\n",
      "C:\\Users\\hp\\anaconda3\\lib\\site-packages\\gradio\\deprecation.py:40: UserWarning: `numeric` parameter is deprecated, and it has no effect\n",
      "  warnings.warn(value)\n"
     ]
    },
    {
     "name": "stdout",
     "output_type": "stream",
     "text": [
      "Running on local URL:  http://127.0.0.1:7861\n",
      "\n",
      "To create a public link, set `share=True` in `launch()`.\n"
     ]
    },
    {
     "data": {
      "text/html": [
       "<div><iframe src=\"http://127.0.0.1:7861/\" width=\"100%\" height=\"500\" allow=\"autoplay; camera; microphone; clipboard-read; clipboard-write;\" frameborder=\"0\" allowfullscreen></iframe></div>"
      ],
      "text/plain": [
       "<IPython.core.display.HTML object>"
      ]
     },
     "metadata": {},
     "output_type": "display_data"
    },
    {
     "data": {
      "text/plain": []
     },
     "execution_count": 7,
     "metadata": {},
     "output_type": "execute_result"
    }
   ],
   "source": [
    "import gradio as gr\n",
    "\n",
    "def predict_sentiment(review):\n",
    "    # Preprocess the review\n",
    "    review = preprocess_text(review)\n",
    "    # Vectorize the preprocessed review\n",
    "    review_vector = vectorizer.transform([review])\n",
    "    # Predict the sentiment of the review\n",
    "    if model.predict(review_vector)[0] == 0:\n",
    "        sentiment = \"Negative\"\n",
    "    else:\n",
    "        sentiment = \"Positive\"\n",
    "    return sentiment\n",
    "\n",
    "# Create a Gradio interface\n",
    "iface = gr.Interface(fn=predict_sentiment, \n",
    "                     inputs=gr.inputs.Textbox(lines=10, label=\"Enter review here\"), \n",
    "                     outputs=\"text\",\n",
    "                     title=\"IMDB Movie Review Sentiment Analyzer\",\n",
    "                     description=\"Analyze the sentiment of a movie review as positive or negative.\")\n",
    "\n",
    "# Launch the interface\n",
    "iface.launch()\n"
   ]
  },
  {
   "cell_type": "code",
   "execution_count": null,
   "id": "76e7bd3f",
   "metadata": {},
   "outputs": [],
   "source": []
  }
 ],
 "metadata": {
  "kernelspec": {
   "display_name": "Python 3 (ipykernel)",
   "language": "python",
   "name": "python3"
  },
  "language_info": {
   "codemirror_mode": {
    "name": "ipython",
    "version": 3
   },
   "file_extension": ".py",
   "mimetype": "text/x-python",
   "name": "python",
   "nbconvert_exporter": "python",
   "pygments_lexer": "ipython3",
   "version": "3.10.9"
  }
 },
 "nbformat": 4,
 "nbformat_minor": 5
}
